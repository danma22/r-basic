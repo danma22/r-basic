{
 "cells": [
  {
   "cell_type": "markdown",
   "metadata": {},
   "source": [
    "## Tarea 9: Ejercicio completo de Data Frames"
   ]
  },
  {
   "cell_type": "markdown",
   "metadata": {},
   "source": [
    "Carga el CSV de la carpeta de datos del tema llamado run.csv y responde a las siguientes preguntas"
   ]
  },
  {
   "cell_type": "code",
   "execution_count": 3,
   "metadata": {},
   "outputs": [
    {
     "data": {
      "text/html": [
       "<div>\n",
       "<style scoped>\n",
       "    .dataframe tbody tr th:only-of-type {\n",
       "        vertical-align: middle;\n",
       "    }\n",
       "\n",
       "    .dataframe tbody tr th {\n",
       "        vertical-align: top;\n",
       "    }\n",
       "\n",
       "    .dataframe thead th {\n",
       "        text-align: right;\n",
       "    }\n",
       "</style>\n",
       "<table border=\"1\" class=\"dataframe\">\n",
       "  <thead>\n",
       "    <tr style=\"text-align: right;\">\n",
       "      <th></th>\n",
       "      <th>pulso.antes</th>\n",
       "      <th>pulso.despues</th>\n",
       "      <th>hace.deporte</th>\n",
       "      <th>fuma</th>\n",
       "      <th>genero</th>\n",
       "      <th>altura</th>\n",
       "      <th>peso</th>\n",
       "      <th>tipo.actividad</th>\n",
       "    </tr>\n",
       "  </thead>\n",
       "  <tbody>\n",
       "    <tr>\n",
       "      <th>1</th>\n",
       "      <td>48</td>\n",
       "      <td>54</td>\n",
       "      <td>no</td>\n",
       "      <td>si</td>\n",
       "      <td>H</td>\n",
       "      <td>68.0</td>\n",
       "      <td>150</td>\n",
       "      <td>nula</td>\n",
       "    </tr>\n",
       "    <tr>\n",
       "      <th>2</th>\n",
       "      <td>54</td>\n",
       "      <td>56</td>\n",
       "      <td>no</td>\n",
       "      <td>si</td>\n",
       "      <td>H</td>\n",
       "      <td>69.0</td>\n",
       "      <td>145</td>\n",
       "      <td>moderada</td>\n",
       "    </tr>\n",
       "    <tr>\n",
       "      <th>3</th>\n",
       "      <td>54</td>\n",
       "      <td>50</td>\n",
       "      <td>no</td>\n",
       "      <td>no</td>\n",
       "      <td>H</td>\n",
       "      <td>69.0</td>\n",
       "      <td>160</td>\n",
       "      <td>moderada</td>\n",
       "    </tr>\n",
       "    <tr>\n",
       "      <th>4</th>\n",
       "      <td>58</td>\n",
       "      <td>70</td>\n",
       "      <td>si</td>\n",
       "      <td>no</td>\n",
       "      <td>H</td>\n",
       "      <td>72.0</td>\n",
       "      <td>145</td>\n",
       "      <td>moderada</td>\n",
       "    </tr>\n",
       "    <tr>\n",
       "      <th>5</th>\n",
       "      <td>58</td>\n",
       "      <td>58</td>\n",
       "      <td>no</td>\n",
       "      <td>no</td>\n",
       "      <td>H</td>\n",
       "      <td>66.0</td>\n",
       "      <td>135</td>\n",
       "      <td>intensa</td>\n",
       "    </tr>\n",
       "    <tr>\n",
       "      <th>...</th>\n",
       "      <td>...</td>\n",
       "      <td>...</td>\n",
       "      <td>...</td>\n",
       "      <td>...</td>\n",
       "      <td>...</td>\n",
       "      <td>...</td>\n",
       "      <td>...</td>\n",
       "      <td>...</td>\n",
       "    </tr>\n",
       "    <tr>\n",
       "      <th>88</th>\n",
       "      <td>92</td>\n",
       "      <td>94</td>\n",
       "      <td>no</td>\n",
       "      <td>si</td>\n",
       "      <td>H</td>\n",
       "      <td>69.0</td>\n",
       "      <td>150</td>\n",
       "      <td>moderada</td>\n",
       "    </tr>\n",
       "    <tr>\n",
       "      <th>89</th>\n",
       "      <td>94</td>\n",
       "      <td>92</td>\n",
       "      <td>no</td>\n",
       "      <td>si</td>\n",
       "      <td>M</td>\n",
       "      <td>62.0</td>\n",
       "      <td>131</td>\n",
       "      <td>moderada</td>\n",
       "    </tr>\n",
       "    <tr>\n",
       "      <th>90</th>\n",
       "      <td>96</td>\n",
       "      <td>140</td>\n",
       "      <td>si</td>\n",
       "      <td>no</td>\n",
       "      <td>M</td>\n",
       "      <td>61.0</td>\n",
       "      <td>140</td>\n",
       "      <td>moderada</td>\n",
       "    </tr>\n",
       "    <tr>\n",
       "      <th>91</th>\n",
       "      <td>96</td>\n",
       "      <td>116</td>\n",
       "      <td>si</td>\n",
       "      <td>no</td>\n",
       "      <td>M</td>\n",
       "      <td>68.0</td>\n",
       "      <td>116</td>\n",
       "      <td>moderada</td>\n",
       "    </tr>\n",
       "    <tr>\n",
       "      <th>92</th>\n",
       "      <td>100</td>\n",
       "      <td>115</td>\n",
       "      <td>si</td>\n",
       "      <td>si</td>\n",
       "      <td>M</td>\n",
       "      <td>63.0</td>\n",
       "      <td>121</td>\n",
       "      <td>moderada</td>\n",
       "    </tr>\n",
       "  </tbody>\n",
       "</table>\n",
       "<p>92 rows × 8 columns</p>\n",
       "</div>"
      ],
      "text/plain": [
       "    pulso.antes  pulso.despues hace.deporte fuma genero  altura  peso  \\\n",
       "1            48             54           no   si      H    68.0   150   \n",
       "2            54             56           no   si      H    69.0   145   \n",
       "3            54             50           no   no      H    69.0   160   \n",
       "4            58             70           si   no      H    72.0   145   \n",
       "5            58             58           no   no      H    66.0   135   \n",
       "..          ...            ...          ...  ...    ...     ...   ...   \n",
       "88           92             94           no   si      H    69.0   150   \n",
       "89           94             92           no   si      M    62.0   131   \n",
       "90           96            140           si   no      M    61.0   140   \n",
       "91           96            116           si   no      M    68.0   116   \n",
       "92          100            115           si   si      M    63.0   121   \n",
       "\n",
       "   tipo.actividad  \n",
       "1            nula  \n",
       "2        moderada  \n",
       "3        moderada  \n",
       "4        moderada  \n",
       "5         intensa  \n",
       "..            ...  \n",
       "88       moderada  \n",
       "89       moderada  \n",
       "90       moderada  \n",
       "91       moderada  \n",
       "92       moderada  \n",
       "\n",
       "[92 rows x 8 columns]"
      ]
     },
     "execution_count": 3,
     "metadata": {},
     "output_type": "execute_result"
    }
   ],
   "source": [
    "import pandas as pd\n",
    "import numpy as np\n",
    "df = pd.read_csv(\"../../data/run.csv\", index_col=0)\n",
    "df"
   ]
  },
  {
   "cell_type": "markdown",
   "metadata": {},
   "source": [
    "1. Indica cuantos estudiantes formaron parte del estudio de deporte"
   ]
  },
  {
   "cell_type": "code",
   "execution_count": 4,
   "metadata": {},
   "outputs": [
    {
     "data": {
      "text/plain": [
       "92"
      ]
     },
     "execution_count": 4,
     "metadata": {},
     "output_type": "execute_result"
    }
   ],
   "source": [
    "x = df.shape\n",
    "x[0]"
   ]
  },
  {
   "cell_type": "markdown",
   "metadata": {},
   "source": [
    "2. Indica cuantos individuos son hombres y cuantos son mujeres"
   ]
  },
  {
   "cell_type": "code",
   "execution_count": 5,
   "metadata": {},
   "outputs": [
    {
     "data": {
      "text/plain": [
       "genero\n",
       "H    57\n",
       "M    35\n",
       "Name: pulso.antes, dtype: int64"
      ]
     },
     "execution_count": 5,
     "metadata": {},
     "output_type": "execute_result"
    }
   ],
   "source": [
    "df.groupby('genero')['pulso.antes'].count()"
   ]
  },
  {
   "cell_type": "markdown",
   "metadata": {},
   "source": [
    "3. Calcula el porcentaje medio de variación del pulso por minuto entre antes y después de hacer ejercicio y compara el valor de los que hacen ejercicio habitualmente y los que no. ¿Observas mucha diferencia?"
   ]
  },
  {
   "cell_type": "code",
   "execution_count": 6,
   "metadata": {},
   "outputs": [
    {
     "data": {
      "text/plain": [
       "hace.deporte    \n",
       "no            1     12.500000\n",
       "              2      3.703704\n",
       "              3     -7.407407\n",
       "              5      0.000000\n",
       "              6     -3.448276\n",
       "                      ...    \n",
       "si            83     4.444444\n",
       "              87    -8.695652\n",
       "              90    45.833333\n",
       "              91    20.833333\n",
       "              92    15.000000\n",
       "Length: 92, dtype: float64"
      ]
     },
     "execution_count": 6,
     "metadata": {},
     "output_type": "execute_result"
    }
   ],
   "source": [
    "def porc_pul(x):\n",
    "    return ((x['pulso.despues'] - x['pulso.antes']) / x['pulso.antes']) * 100\n",
    "\n",
    "df.groupby('hace.deporte').apply(porc_pul)"
   ]
  },
  {
   "cell_type": "markdown",
   "metadata": {},
   "source": [
    "Observo que los valores de porcentaje de la gente que practica deporte es mayor, a comparación de los que no practian"
   ]
  },
  {
   "cell_type": "markdown",
   "metadata": {},
   "source": [
    "4. Calcula el porcentaje medio de variación del pulso por minuto entre antes y después de hacer ejercicio  para los estudiantes que hacen ejercicio habitualmente y compara el valor de los hombres con el de las mujeres. ¿Observas mucha diferencia?"
   ]
  },
  {
   "cell_type": "code",
   "execution_count": 7,
   "metadata": {},
   "outputs": [],
   "source": [
    "dfD = df.loc[df['hace.deporte'] == 'si']"
   ]
  },
  {
   "cell_type": "code",
   "execution_count": 17,
   "metadata": {},
   "outputs": [
    {
     "data": {
      "text/plain": [
       "genero    \n",
       "H       4     20.689655\n",
       "        7     26.666667\n",
       "        12    22.580645\n",
       "        13    20.967742\n",
       "        14    -6.451613\n",
       "        21    37.500000\n",
       "        22    25.000000\n",
       "        25    18.181818\n",
       "        26    24.242424\n",
       "        27    54.545455\n",
       "        30     5.882353\n",
       "        31    11.764706\n",
       "        32    11.764706\n",
       "        41     2.857143\n",
       "        42    51.428571\n",
       "        43    34.285714\n",
       "        47    11.111111\n",
       "        53    13.513514\n",
       "        54     2.702703\n",
       "        58    55.263158\n",
       "        68    20.000000\n",
       "        74     0.000000\n",
       "        83     4.444444\n",
       "        87    -8.695652\n",
       "M       15    61.290323\n",
       "        16    58.064516\n",
       "        33    64.705882\n",
       "        63    33.333333\n",
       "        64    51.282051\n",
       "        69    60.000000\n",
       "        71    21.951220\n",
       "        80    25.000000\n",
       "        90    45.833333\n",
       "        91    20.833333\n",
       "        92    15.000000\n",
       "dtype: float64"
      ]
     },
     "execution_count": 17,
     "metadata": {},
     "output_type": "execute_result"
    }
   ],
   "source": [
    "dfD.groupby('genero').apply(porc_pul)"
   ]
  },
  {
   "cell_type": "markdown",
   "metadata": {},
   "source": [
    "Observo que los porcentajes de variación de los hombres que hacen ejercicio es menor que en el caso de las mujeres que practican ejercicio"
   ]
  },
  {
   "cell_type": "markdown",
   "metadata": {},
   "source": [
    "5. Calcula el porcentaje medio de variación del pulso por minuto entre antes y después de hacer ejercicio para los estudiantes que no hacen ejercicio habitualmente y compara el valor de los fumadores con los no fumadores. ¿Observas mucha diferencia?"
   ]
  },
  {
   "cell_type": "code",
   "execution_count": 9,
   "metadata": {},
   "outputs": [],
   "source": [
    "dfND = df.loc[df['hace.deporte'] == 'no']"
   ]
  },
  {
   "cell_type": "code",
   "execution_count": 18,
   "metadata": {},
   "outputs": [
    {
     "data": {
      "text/plain": [
       "fuma    \n",
       "no    3     -7.407407\n",
       "      5      0.000000\n",
       "      6     -3.448276\n",
       "      8      3.333333\n",
       "      10    10.000000\n",
       "      11    14.754098\n",
       "      17     0.000000\n",
       "      18     6.451613\n",
       "      20     6.451613\n",
       "      23    -3.125000\n",
       "      24    -6.250000\n",
       "      28     9.090909\n",
       "      29    15.151515\n",
       "      35     0.000000\n",
       "      36    -5.882353\n",
       "      37     0.000000\n",
       "      38    -2.941176\n",
       "      39     0.000000\n",
       "      40     0.000000\n",
       "      45     0.000000\n",
       "      50    -2.777778\n",
       "      51    -2.777778\n",
       "      52    -5.555556\n",
       "      55    -5.405405\n",
       "      56     0.000000\n",
       "      57     2.702703\n",
       "      59     0.000000\n",
       "      60     0.000000\n",
       "      62     0.000000\n",
       "      65    -2.564103\n",
       "      66     0.000000\n",
       "      67     2.564103\n",
       "      70    -7.500000\n",
       "      73    -2.439024\n",
       "      75     0.000000\n",
       "      76     0.000000\n",
       "      77    -4.761905\n",
       "      78    -2.325581\n",
       "      79    -3.448276\n",
       "      81    -4.545455\n",
       "      85     0.000000\n",
       "si    1     12.500000\n",
       "      2      3.703704\n",
       "      9     16.666667\n",
       "      19     9.677419\n",
       "      34    -2.941176\n",
       "      44   -11.428571\n",
       "      46    -5.714286\n",
       "      48     2.777778\n",
       "      49     2.777778\n",
       "      61     0.000000\n",
       "      72     2.439024\n",
       "      82   -15.909091\n",
       "      84    -2.222222\n",
       "      86     2.222222\n",
       "      88     2.173913\n",
       "      89    -2.127660\n",
       "dtype: float64"
      ]
     },
     "execution_count": 18,
     "metadata": {},
     "output_type": "execute_result"
    }
   ],
   "source": [
    "dfND.groupby('fuma').apply(porc_pul)"
   ]
  },
  {
   "cell_type": "markdown",
   "metadata": {},
   "source": [
    "Observo que las variaciones de porcentaje entre personas que fuman y no fuman, es pequeña"
   ]
  },
  {
   "cell_type": "markdown",
   "metadata": {},
   "source": [
    "6. Calcula el porcentaje medio de variación del pulso por minuto entre antes y después de hacer ejercicio de todos los estudiantes según el tipo de actividad física que realizan. ¿Observas alguna diferencia?"
   ]
  },
  {
   "cell_type": "code",
   "execution_count": 11,
   "metadata": {},
   "outputs": [],
   "source": [
    "dfAct = df.groupby('tipo.actividad').apply(porc_pul)"
   ]
  },
  {
   "cell_type": "code",
   "execution_count": 22,
   "metadata": {},
   "outputs": [
    {
     "data": {
      "text/plain": [
       "12.5"
      ]
     },
     "execution_count": 22,
     "metadata": {},
     "output_type": "execute_result"
    }
   ],
   "source": [
    "dfAct.loc['nula'].mean()"
   ]
  },
  {
   "cell_type": "code",
   "execution_count": 21,
   "metadata": {},
   "outputs": [
    {
     "data": {
      "text/plain": [
       "3.747241308216918"
      ]
     },
     "execution_count": 21,
     "metadata": {},
     "output_type": "execute_result"
    }
   ],
   "source": [
    "dfAct.loc['suave'].mean()"
   ]
  },
  {
   "cell_type": "code",
   "execution_count": 23,
   "metadata": {},
   "outputs": [
    {
     "data": {
      "text/plain": [
       "14.015695467761367"
      ]
     },
     "execution_count": 23,
     "metadata": {},
     "output_type": "execute_result"
    }
   ],
   "source": [
    "dfAct.loc['moderada'].mean()"
   ]
  },
  {
   "cell_type": "code",
   "execution_count": 24,
   "metadata": {},
   "outputs": [
    {
     "data": {
      "text/plain": [
       "1.34747491580826"
      ]
     },
     "execution_count": 24,
     "metadata": {},
     "output_type": "execute_result"
    }
   ],
   "source": [
    "dfAct.loc['intensa'].mean()"
   ]
  },
  {
   "cell_type": "markdown",
   "metadata": {},
   "source": [
    "El porcentaje de personas que realizan una actividad deportiva de intensidad moderada es mayor que para el resto de de niveles."
   ]
  },
  {
   "cell_type": "markdown",
   "metadata": {},
   "source": []
  }
 ],
 "metadata": {
  "kernelspec": {
   "display_name": "Python 3",
   "language": "python",
   "name": "python3"
  },
  "language_info": {
   "codemirror_mode": {
    "name": "ipython",
    "version": 3
   },
   "file_extension": ".py",
   "mimetype": "text/x-python",
   "name": "python",
   "nbconvert_exporter": "python",
   "pygments_lexer": "ipython3",
   "version": "3.8.5"
  }
 },
 "nbformat": 4,
 "nbformat_minor": 4
}
